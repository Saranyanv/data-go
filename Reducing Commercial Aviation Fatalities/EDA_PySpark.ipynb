{
  "nbformat": 4,
  "nbformat_minor": 0,
  "metadata": {
    "kernelspec": {
      "display_name": "PySpark",
      "name": "pyspark",
      "language": "python"
    },
    "language_info": {
      "mimetype": "text/x-python",
      "nbconvert_exporter": "python",
      "version": "2.7.14",
      "name": "python",
      "file_extension": ".py",
      "pygments_lexer": "ipython2",
      "codemirror_mode": {
        "version": 2,
        "name": "ipython"
      }
    },
    "colab": {
      "name": "Untitled3 (2).ipynb",
      "provenance": [],
      "include_colab_link": true
    }
  },
  "cells": [
    {
      "cell_type": "markdown",
      "metadata": {
        "id": "view-in-github",
        "colab_type": "text"
      },
      "source": [
        "<a href=\"https://colab.research.google.com/github/Saranyanv/data-go/blob/master/Reducing%20Commercial%20Aviation%20Fatalities/EDA_PySpark.ipynb\" target=\"_parent\"><img src=\"https://colab.research.google.com/assets/colab-badge.svg\" alt=\"Open In Colab\"/></a>"
      ]
    },
    {
      "cell_type": "code",
      "metadata": {
        "id": "ACrKN046n3Gb",
        "colab_type": "code",
        "colab": {}
      },
      "source": [
        "#from pyspark import SparkContext, SparkConf\n",
        "from pyspark.rdd import RDD\n",
        "from pyspark.sql import SparkSession\n",
        "import numpy as np"
      ],
      "execution_count": 0,
      "outputs": []
    },
    {
      "cell_type": "code",
      "metadata": {
        "id": "XSWveGGSn3Gk",
        "colab_type": "code",
        "colab": {}
      },
      "source": [
        "spark = SparkSession.builder \\\n",
        ".master(\"local\") \\\n",
        ".appName(\"mySparkSession\") \\\n",
        ".config(\"k1\", \"vtest\") \\\n",
        ".getOrCreate()"
      ],
      "execution_count": 0,
      "outputs": []
    },
    {
      "cell_type": "markdown",
      "metadata": {
        "id": "GmdJimdLn3Go",
        "colab_type": "text"
      },
      "source": [
        "# DataFrame Creation"
      ]
    },
    {
      "cell_type": "code",
      "metadata": {
        "id": "x_8knG1En3Gp",
        "colab_type": "code",
        "colab": {}
      },
      "source": [
        "readings = spark.read.load(\"gs://saranv_bucket/Reducing Commercial Aviation Disaster/train.csv\",\n",
        "                     format=\"csv\", sep=\",\", inferSchema=\"true\", header=\"true\")"
      ],
      "execution_count": 0,
      "outputs": []
    },
    {
      "cell_type": "code",
      "metadata": {
        "id": "a0E0Id09n3Gv",
        "colab_type": "code",
        "colab": {},
        "outputId": "2be25337-480c-45a7-e662-bb201ee9e086"
      },
      "source": [
        "print type(readings), readings.count()"
      ],
      "execution_count": 0,
      "outputs": [
        {
          "output_type": "stream",
          "text": [
            "<class 'pyspark.sql.dataframe.DataFrame'> 4867421\n"
          ],
          "name": "stdout"
        }
      ]
    },
    {
      "cell_type": "code",
      "metadata": {
        "id": "W5katST7n3G3",
        "colab_type": "code",
        "colab": {},
        "outputId": "af1fd1b7-8403-4711-f8a2-da42f20e9aa6"
      },
      "source": [
        "readings.take(5)"
      ],
      "execution_count": 0,
      "outputs": [
        {
          "output_type": "execute_result",
          "data": {
            "text/plain": [
              "[Row(crew=1, experiment=u'CA', time=0.01171875, seat=1, eeg_fp1=-5.28545, eeg_f7=26.775801, eeg_f8=-9.52731, eeg_t4=-12.7932, eeg_t6=16.7178, eeg_t5=33.737499, eeg_t3=23.712299, eeg_fp2=-6.6958699999999975, eeg_o1=29.2321, eeg_p3=24.842899, eeg_pz=3.92134, eeg_f3=18.447001, eeg_fz=1.07547, eeg_f4=3.09029, eeg_c4=37.368999, eeg_p4=17.437599, eeg_poz=19.2019, eeg_c3=20.5968, eeg_cz=-3.95115, eeg_o2=14.5076, ecg=-4520.0, r=817.705994, gsr=388.829987, event=u'A'),\n",
              " Row(crew=1, experiment=u'CA', time=0.015625, seat=1, eeg_fp1=-2.42842, eeg_f7=28.430901, eeg_f8=-9.32351, eeg_t4=-3.75723, eeg_t6=15.9693, eeg_t5=30.4436, eeg_t3=21.0103, eeg_fp2=-6.47472, eeg_o1=26.641399, eeg_p3=24.1388, eeg_pz=5.46991, eeg_f3=20.510599, eeg_fz=2.83354, eeg_f4=7.10177, eeg_c4=31.170799, eeg_p4=19.3997, eeg_poz=19.689501, eeg_c3=21.3547, eeg_cz=1.33212, eeg_o2=17.7502, ecg=-4520.0, r=817.705994, gsr=388.829987, event=u'A'),\n",
              " Row(crew=1, experiment=u'CA', time=0.01953125, seat=1, eeg_fp1=10.6715, eeg_f7=30.4202, eeg_f8=15.3507, eeg_t4=24.724001, eeg_t6=16.143101, eeg_t5=32.142799, eeg_t3=25.431801, eeg_fp2=-0.08870700000000001, eeg_o1=28.1199, eeg_p3=26.8913, eeg_pz=8.57886, eeg_f3=23.162901, eeg_fz=4.51993, eeg_f4=12.7055, eeg_c4=-12.0126, eeg_p4=19.396299, eeg_poz=23.1717, eeg_c3=22.4076, eeg_cz=1.53786, eeg_o2=22.247, ecg=-4520.0, r=817.705994, gsr=388.829987, event=u'A'),\n",
              " Row(crew=1, experiment=u'CA', time=0.0234375, seat=1, eeg_fp1=11.4525, eeg_f7=25.6098, eeg_f8=2.43308, eeg_t4=12.4125, eeg_t6=20.5333, eeg_t5=31.494101, eeg_t3=19.142799, eeg_fp2=-0.256516, eeg_o1=30.653601, eeg_p3=24.247, eeg_pz=8.6431, eeg_f3=19.961901, eeg_fz=7.27575, eeg_f4=11.4598, eeg_c4=18.5741, eeg_p4=23.156401, eeg_poz=22.641199, eeg_c3=19.3367, eeg_cz=2.5449200000000003, eeg_o2=18.9986, ecg=-4520.0, r=817.705994, gsr=388.829987, event=u'A'),\n",
              " Row(crew=1, experiment=u'CA', time=0.02734375, seat=1, eeg_fp1=7.28321, eeg_f7=25.9426, eeg_f8=0.113564, eeg_t4=5.7479999999999976, eeg_t6=19.833599, eeg_t5=28.753599, eeg_t3=20.5721, eeg_fp2=-1.95347, eeg_o1=31.722601, eeg_p3=25.1555, eeg_pz=12.5003, eeg_f3=18.746901, eeg_fz=7.309760000000002, eeg_f4=8.00805, eeg_c4=6.555439999999999, eeg_p4=22.7547, eeg_poz=22.6703, eeg_c3=20.2932, eeg_cz=1.69962, eeg_o2=22.812799, ecg=-4520.0, r=817.705994, gsr=388.829987, event=u'A')]"
            ]
          },
          "metadata": {
            "tags": []
          },
          "execution_count": 5
        }
      ]
    },
    {
      "cell_type": "code",
      "metadata": {
        "id": "2D7_qgG0n3HE",
        "colab_type": "code",
        "colab": {},
        "outputId": "6886cfd8-a860-4bff-bb6c-90b926fc7d0f"
      },
      "source": [
        "readings.printSchema()"
      ],
      "execution_count": 0,
      "outputs": [
        {
          "output_type": "stream",
          "text": [
            "root\n",
            " |-- crew: integer (nullable = true)\n",
            " |-- experiment: string (nullable = true)\n",
            " |-- time: double (nullable = true)\n",
            " |-- seat: integer (nullable = true)\n",
            " |-- eeg_fp1: double (nullable = true)\n",
            " |-- eeg_f7: double (nullable = true)\n",
            " |-- eeg_f8: double (nullable = true)\n",
            " |-- eeg_t4: double (nullable = true)\n",
            " |-- eeg_t6: double (nullable = true)\n",
            " |-- eeg_t5: double (nullable = true)\n",
            " |-- eeg_t3: double (nullable = true)\n",
            " |-- eeg_fp2: double (nullable = true)\n",
            " |-- eeg_o1: double (nullable = true)\n",
            " |-- eeg_p3: double (nullable = true)\n",
            " |-- eeg_pz: double (nullable = true)\n",
            " |-- eeg_f3: double (nullable = true)\n",
            " |-- eeg_fz: double (nullable = true)\n",
            " |-- eeg_f4: double (nullable = true)\n",
            " |-- eeg_c4: double (nullable = true)\n",
            " |-- eeg_p4: double (nullable = true)\n",
            " |-- eeg_poz: double (nullable = true)\n",
            " |-- eeg_c3: double (nullable = true)\n",
            " |-- eeg_cz: double (nullable = true)\n",
            " |-- eeg_o2: double (nullable = true)\n",
            " |-- ecg: double (nullable = true)\n",
            " |-- r: double (nullable = true)\n",
            " |-- gsr: double (nullable = true)\n",
            " |-- event: string (nullable = true)\n",
            "\n"
          ],
          "name": "stdout"
        }
      ]
    },
    {
      "cell_type": "code",
      "metadata": {
        "id": "GUWR6kMcn3HN",
        "colab_type": "code",
        "colab": {},
        "outputId": "ef6d3abd-55a4-47c2-a4ef-f326cb8135db"
      },
      "source": [
        "readings.groupBy(\"experiment\",\"event\").agg({\"crew\":\"count\"}).alias(\"count\").show()"
      ],
      "execution_count": 0,
      "outputs": [
        {
          "output_type": "stream",
          "text": [
            "+----------+-----+-----------+\n",
            "|experiment|event|count(crew)|\n",
            "+----------+-----+-----------+\n",
            "|        DA|    D|     235329|\n",
            "|        CA|    A|       5690|\n",
            "|        DA|    A|    1423064|\n",
            "|        SS|    A|    1420055|\n",
            "|        CA|    C|    1652686|\n",
            "|        SS|    B|     130597|\n",
            "+----------+-----+-----------+\n",
            "\n"
          ],
          "name": "stdout"
        }
      ]
    },
    {
      "cell_type": "code",
      "metadata": {
        "id": "nFu9NzUtn3HU",
        "colab_type": "code",
        "colab": {},
        "outputId": "d303c8ad-4549-46f3-e627-68235ae5b2d8"
      },
      "source": [
        "readings.columns[4:-3]"
      ],
      "execution_count": 0,
      "outputs": [
        {
          "output_type": "execute_result",
          "data": {
            "text/plain": [
              "['eeg_fp1',\n",
              " 'eeg_f7',\n",
              " 'eeg_f8',\n",
              " 'eeg_t4',\n",
              " 'eeg_t6',\n",
              " 'eeg_t5',\n",
              " 'eeg_t3',\n",
              " 'eeg_fp2',\n",
              " 'eeg_o1',\n",
              " 'eeg_p3',\n",
              " 'eeg_pz',\n",
              " 'eeg_f3',\n",
              " 'eeg_fz',\n",
              " 'eeg_f4',\n",
              " 'eeg_c4',\n",
              " 'eeg_p4',\n",
              " 'eeg_poz',\n",
              " 'eeg_c3',\n",
              " 'eeg_cz',\n",
              " 'eeg_o2',\n",
              " 'ecg']"
            ]
          },
          "metadata": {
            "tags": []
          },
          "execution_count": 15
        }
      ]
    },
    {
      "cell_type": "code",
      "metadata": {
        "id": "IXroy9aPn3Hb",
        "colab_type": "code",
        "colab": {},
        "outputId": "ab047955-e619-437a-85a6-e21d5662d2e3"
      },
      "source": [
        "#readings.selectExpr('percentile(eeg_fp1, 0.95)').show()\n",
        "#pctl=readings.percentile([\"eeg_fp1\", \"eeg_f7\", \"eeg_f8\"], [0.03, 0.97])\n",
        "\n",
        "#http://blog.madhukaraphatak.com/statistical-data-exploration-spark-part-3/\n",
        "\n",
        "pctls = {}\n",
        "for col in readings.columns[4:-3]:\n",
        "    print (col+\"...\")\n",
        "    pctls[col] = readings.approxQuantile(col,[0.01,0.99],0.20)"
      ],
      "execution_count": 0,
      "outputs": [
        {
          "output_type": "stream",
          "text": [
            "eeg_fp1...\n",
            "eeg_f7...\n",
            "eeg_f8...\n",
            "eeg_t4...\n",
            "eeg_t6...\n",
            "eeg_t5...\n",
            "eeg_t3...\n",
            "eeg_fp2...\n",
            "eeg_o1...\n",
            "eeg_p3...\n",
            "eeg_pz...\n",
            "eeg_f3...\n",
            "eeg_fz...\n",
            "eeg_f4...\n",
            "eeg_c4...\n",
            "eeg_p4...\n",
            "eeg_poz...\n",
            "eeg_c3...\n",
            "eeg_cz...\n",
            "eeg_o2...\n",
            "ecg...\n"
          ],
          "name": "stdout"
        }
      ]
    },
    {
      "cell_type": "code",
      "metadata": {
        "id": "xi7cLHeln3Hi",
        "colab_type": "code",
        "colab": {}
      },
      "source": [
        "readings_copy=readings\n",
        "print (readings.count())\n",
        "for col in readings.columns[4:6]:\n",
        "    readings_tmp=readings_copy.filter((readings[col]>pctls[col][0]) & (readings[col]<pctls[col][1]))\n",
        "    readings_copy=readings_tmp\n",
        "    print (col, \" \", readings_copy.count())"
      ],
      "execution_count": 0,
      "outputs": []
    },
    {
      "cell_type": "code",
      "metadata": {
        "id": "3XOEQ05gn3Hn",
        "colab_type": "code",
        "colab": {}
      },
      "source": [
        ""
      ],
      "execution_count": 0,
      "outputs": []
    }
  ]
}