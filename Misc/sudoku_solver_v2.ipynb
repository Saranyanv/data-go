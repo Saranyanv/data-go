{
  "nbformat": 4,
  "nbformat_minor": 0,
  "metadata": {
    "colab": {
      "name": "sudoku solver.ipynb",
      "provenance": [],
      "collapsed_sections": [],
      "authorship_tag": "ABX9TyNBw9AymiirOGKEhfc4Lfxm",
      "include_colab_link": true
    },
    "kernelspec": {
      "name": "python3",
      "display_name": "Python 3"
    }
  },
  "cells": [
    {
      "cell_type": "markdown",
      "metadata": {
        "id": "view-in-github",
        "colab_type": "text"
      },
      "source": [
        "<a href=\"https://colab.research.google.com/github/Saranyanv/data-go/blob/master/Misc/sudoku_solver_v2.ipynb\" target=\"_parent\"><img src=\"https://colab.research.google.com/assets/colab-badge.svg\" alt=\"Open In Colab\"/></a>"
      ]
    },
    {
      "cell_type": "code",
      "metadata": {
        "id": "MdiDkGDjzCPo",
        "colab_type": "code",
        "colab": {}
      },
      "source": [
        "import numpy as np\n",
        "import pandas as pd\n",
        "import random\n",
        "\n",
        "def difference(list1):\n",
        "   list_dif = [i for i in list1 + [1,2,3,4,5,6,7,8,9] if (i not in list1 or i not in [1,2,3,4,5,6,7,8,9]) and i!=0]\n",
        "   return list_dif\n",
        "\n",
        "def uniq_append(element, list1):\n",
        "  if element not in list1 and element!=0:\n",
        "    list1.append(element)\n",
        "\n",
        "def dupcheck(row_num, col_num, arg_list):\n",
        "  tmp_dict={}\n",
        "  for i in [abs(i) for i in arg_list[row_num] if i!=0]:\n",
        "    if i not in tmp_dict.keys():\n",
        "      tmp_dict[i]=0\n",
        "    else:\n",
        "      return 'Dups'\n",
        "  \n",
        "  tmp_dict={}\n",
        "  for n in range(9):\n",
        "    if arg_list[n][col_num]==0:\n",
        "      pass\n",
        "    elif abs(arg_list[n][col_num]) not in tmp_dict.keys():\n",
        "      tmp_dict[abs(arg_list[n][col_num])]=0\n",
        "    else:\n",
        "      return 'Dups'\n",
        "    \n",
        "  tmp_dict={}\n",
        "  for i1 in range(row_num-np.mod(row_num,3), row_num+np.mod(8-row_num,3)+1):\n",
        "    for j1 in range(col_num-np.mod(col_num,3), col_num+np.mod(8-col_num,3)+1):\n",
        "      if arg_list[i1][j1]==0:\n",
        "        pass\n",
        "      elif abs(arg_list[i1][j1]) not in tmp_dict.keys():\n",
        "        tmp_dict[abs(arg_list[i1][j1])]=0\n",
        "      else:\n",
        "        return 'Dups'"
      ],
      "execution_count": 0,
      "outputs": []
    },
    {
      "cell_type": "code",
      "metadata": {
        "id": "K2VpuxkKre5m",
        "colab_type": "code",
        "colab": {
          "base_uri": "https://localhost:8080/",
          "height": 35
        },
        "outputId": "939c6ee1-b0fd-4ce1-d03f-e4bcd61a0cc4"
      },
      "source": [
        "d1=dupcheck(3,8,arr)\n",
        "print (d1)"
      ],
      "execution_count": 266,
      "outputs": [
        {
          "output_type": "stream",
          "text": [
            "Dups in Square\n"
          ],
          "name": "stdout"
        }
      ]
    },
    {
      "cell_type": "code",
      "metadata": {
        "id": "BiPFR0XdzEKV",
        "colab_type": "code",
        "colab": {}
      },
      "source": [
        "rows, cols = (9, 9) \n",
        "#arr = [[random.randint(0,9) for i in range(rows)] for i in range(cols)]\n",
        "\n",
        "#Difficulty=Easy\n",
        "#arr=[[5,2,4,6,0,0,0,0,1],[0,1,0,8,4,3,0,6,5],[3,0,0,0,1,0,0,0,0],[7,5,2,0,0,0,1,0,0],[0,0,0,1,0,7,0,0,0],[0,0,6,0,0,0,7,5,8],[0,0,0,0,9,0,0,0,2],[4,7,0,2,8,6,0,1,0],[2,0,0,0,0,5,6,7,9]]\n",
        "\n",
        "#Difficulty=Medium\n",
        "#arr=[[0,0,9,0,8,2,0,0,5],[0,0,0,9,0,0,1,0,0],[0,5,3,1,0,0,9,8,7],[3,0,7,0,9,1,0,0,0],[0,0,0,0,0,0,0,0,0],[0,0,0,6,2,0,3,0,9],[6,9,5,0,0,8,4,3,0],[0,0,4,0,0,9,0,0,0],[1,0,0,4,3,0,5,0,0]]\n",
        "#arr=[[3,0,8,0,0,6,0,0,9],[0,9,0,8,0,0,0,4,2],[0,0,0,0,1,0,0,8,0],[0,6,0,0,0,0,2,0,0],[1,0,0,3,5,2,0,0,6],[0,0,3,0,0,0,0,9,0],[0,3,0,0,4,0,0,0,0],[5,1,0,0,0,8,0,2,0],[8,0,0,2,0,0,1,0,5]]\n",
        "arr=[[0,8,0,5,0,6,4,2,0],\n",
        "     [7,0,5,0,0,0,9,0,0],\n",
        "     [0,0,4,0,3,0,0,0,5],\n",
        "     [3,0,0,7,0,0,0,0,8],\n",
        "     [0,0,0,0,8,0,0,0,0],\n",
        "     [6,0,0,0,0,1,0,0,2],\n",
        "     [2,0,0,0,4,0,5,0,0],\n",
        "     [0,0,6,0,0,0,2,0,4],\n",
        "     [0,4,1,6,0,5,0,7,0]]"
      ],
      "execution_count": 0,
      "outputs": []
    },
    {
      "cell_type": "code",
      "metadata": {
        "id": "PrHt6Vi-0Ite",
        "colab_type": "code",
        "outputId": "638c1357-5f32-439a-948a-9daf620ecfc5",
        "colab": {
          "base_uri": "https://localhost:8080/",
          "height": 173
        }
      },
      "source": [
        "#old\n",
        "arr"
      ],
      "execution_count": 366,
      "outputs": [
        {
          "output_type": "execute_result",
          "data": {
            "text/plain": [
              "[[0, 8, 0, 5, 0, 6, 4, 2, 0],\n",
              " [7, 0, 5, 0, 0, 0, 9, 0, 0],\n",
              " [0, 0, 4, 0, 3, 0, 0, 0, 5],\n",
              " [3, 0, 0, 7, 0, 0, 0, 0, 8],\n",
              " [0, 0, 0, 0, 8, 0, 0, 0, 0],\n",
              " [6, 0, 0, 0, 0, 1, 0, 0, 2],\n",
              " [2, 0, 0, 0, 4, 0, 5, 0, 0],\n",
              " [0, 0, 6, 0, 0, 0, 2, 0, 4],\n",
              " [0, 4, 1, 6, 0, 5, 0, 7, 0]]"
            ]
          },
          "metadata": {
            "tags": []
          },
          "execution_count": 366
        }
      ]
    },
    {
      "cell_type": "code",
      "metadata": {
        "id": "BerRzyV_zEr4",
        "colab_type": "code",
        "colab": {}
      },
      "source": [
        "def sudoku(arg_list):\n",
        "  dict1={}\n",
        "  cntr=0;prev_not_filled=0;offset=1;C=0\n",
        "  backup_arr=arg_list\n",
        "  while True:\n",
        "    print (\"Pass Nbr #\",cntr)\n",
        "    for i in range(rows):\n",
        "      for j in range(cols):\n",
        "        #print (\"i=\",i,\"j=\",j)\n",
        "        if arg_list[i][j]==0:\n",
        "          dup_chk=dupcheck(i,j,arr)\n",
        "          if dup_chk=='Dups':\n",
        "            print (\"Resetting due to Dups\")\n",
        "            arg_list=backup_arr\n",
        "            C+=1\n",
        "            continue\n",
        "          else:\n",
        "            #get numbers in that row\n",
        "            tmp=[abs(i) for i in arg_list[i] if i!=0]\n",
        "            #get numbers in that column\n",
        "            for n in range(rows):\n",
        "              uniq_append(abs(arg_list[n][j]),tmp)\n",
        "            #get numbers in that square\n",
        "            for i1 in range(i-np.mod(i,3), i+np.mod(8-i,3)+1):\n",
        "              for j1 in range(j-np.mod(j,3), j+np.mod(8-j,3)+1):\n",
        "                uniq_append(abs(arg_list[i1][j1]),tmp)\n",
        "            if len(difference(tmp))==1:\n",
        "              arg_list[i][j]=offset*sum(int(x) for x in difference(tmp))\n",
        "              #dict1[(i*10)+j]=[]\n",
        "              dict1[tuple([i,j])]=[]\n",
        "            elif len(difference(tmp))>1:\n",
        "              #dict1[(i*10)+j]=difference(tmp)\n",
        "              dict1[tuple([i,j])]=difference(tmp)\n",
        "    not_filled=len([i for j in arg_list for i in j if i==0])\n",
        "    if prev_not_filled==not_filled:\n",
        "      offset=-1\n",
        "      (postn,likely_val)=[(k,v[C]) for k,v in dict1.items() if len(v)==min([len(i) for i in dict1.values() if i!=[]])][0]\n",
        "      arr[postn[0]][postn[1]]=offset*likely_val\n",
        "      dict1[tuple([postn[0],postn[1]])]=[]\n",
        "      #print (\"Count not proceed!\")\n",
        "      #print (\"probabilistic computation...\")\n",
        "      print (postn,likely_val, dict1)\n",
        "      #return dict1\n",
        "      #break\n",
        "    elif not_filled>0:\n",
        "      print (\"  Number of unfilled positions is \",not_filled)\n",
        "      #print(np.matrix(arg_list))\n",
        "      prev_not_filled=not_filled\n",
        "    else:\n",
        "      print (\"Sudoku Challenge complete in\",cntr,\"passes!\")\n",
        "      print (\" \")\n",
        "      print(np.matrix(arg_list))\n",
        "      return False\n",
        "    cntr+=1"
      ],
      "execution_count": 0,
      "outputs": []
    },
    {
      "cell_type": "code",
      "metadata": {
        "id": "Mt1TTiKPzJKw",
        "colab_type": "code",
        "outputId": "6c05ff8f-4a41-4261-d015-0af3480a8512",
        "colab": {
          "base_uri": "https://localhost:8080/",
          "height": 523
        }
      },
      "source": [
        "d1=sudoku(arr)"
      ],
      "execution_count": 369,
      "outputs": [
        {
          "output_type": "stream",
          "text": [
            "Pass Nbr # 0\n",
            "  Number of unfilled positions is  52\n",
            "Pass Nbr # 1\n",
            "(0, 0) 1 {(0, 0): [], (0, 2): [3, 9], (0, 4): [1, 7, 9], (0, 8): [1, 3, 7], (1, 1): [1, 2, 3, 6], (1, 3): [1, 2, 4, 8], (1, 4): [1, 2], (1, 5): [2, 4, 8], (1, 7): [1, 3, 6, 8], (1, 8): [1, 3, 6], (2, 0): [1, 9], (2, 1): [1, 2, 6, 9], (2, 3): [1, 2, 8, 9], (2, 5): [2, 7, 8, 9], (2, 6): [1, 6, 7, 8], (2, 7): [1, 6, 8], (3, 1): [1, 2, 5, 9], (3, 2): [2, 9], (3, 4): [2, 5, 6, 9], (3, 5): [2, 4, 9], (3, 6): [1, 6], (3, 7): [1, 4, 5, 6, 9], (4, 0): [1, 4, 5, 9], (4, 1): [1, 2, 5, 7, 9], (4, 2): [2, 7, 9], (4, 3): [2, 3, 4, 9], (4, 5): [2, 3, 4, 9], (4, 6): [1, 3, 6, 7], (4, 7): [1, 3, 4, 5, 6, 9], (4, 8): [1, 3, 6, 7, 9], (5, 1): [5, 7, 9], (5, 2): [7, 8, 9], (5, 3): [3, 4, 9], (5, 4): [5, 9], (5, 6): [3, 7], (5, 7): [3, 4, 5, 9], (6, 1): [3, 7, 9], (6, 2): [3, 7, 8, 9], (6, 3): [1, 3, 8, 9], (6, 5): [3, 7, 8, 9], (6, 7): [1, 3, 6, 8, 9], (6, 8): [1, 3, 6, 9], (7, 0): [5, 8, 9], (7, 1): [3, 5, 7, 9], (7, 3): [1, 3, 8, 9], (7, 4): [1, 7, 9], (7, 5): [3, 7, 8, 9], (7, 7): [1, 3, 8, 9], (8, 0): [8, 9], (8, 4): [2, 9], (8, 6): [3, 8], (8, 8): [3, 9]}\n",
            "Pass Nbr # 2\n",
            "  Number of unfilled positions is  47\n",
            "Pass Nbr # 3\n",
            "  Number of unfilled positions is  42\n",
            "Pass Nbr # 4\n",
            "  Number of unfilled positions is  37\n",
            "Pass Nbr # 5\n",
            "  Number of unfilled positions is  29\n",
            "Pass Nbr # 6\n",
            "  Number of unfilled positions is  19\n",
            "Pass Nbr # 7\n",
            "  Number of unfilled positions is  3\n",
            "Pass Nbr # 8\n",
            "Sudoku Challenge complete in 8 passes!\n",
            " \n",
            "[[-1  8 -3  5 -9  6  4  2 -7]\n",
            " [ 7 -2  5 -4 -1 -8  9 -3 -6]\n",
            " [-9 -6  4 -2  3 -7 -8 -1  5]\n",
            " [ 3 -5 -2  7 -6 -4 -1 -9  8]\n",
            " [-4 -1 -7 -9  8 -2 -6 -5 -3]\n",
            " [ 6 -9 -8 -3 -5  1 -7 -4  2]\n",
            " [ 2 -7 -9 -8  4 -3  5 -6 -1]\n",
            " [-5 -3  6 -1 -7 -9  2 -8  4]\n",
            " [-8  4  1  6 -2  5 -3  7 -9]]\n"
          ],
          "name": "stdout"
        }
      ]
    },
    {
      "cell_type": "code",
      "metadata": {
        "id": "iLPTxtPfzNLv",
        "colab_type": "code",
        "outputId": "baf6dfad-7345-44f2-e6d7-c752b8c41257",
        "colab": {
          "base_uri": "https://localhost:8080/",
          "height": 173
        }
      },
      "source": [
        "#new\n",
        "print(np.matrix(arr))"
      ],
      "execution_count": 370,
      "outputs": [
        {
          "output_type": "stream",
          "text": [
            "[[-1  8 -3  5 -9  6  4  2 -7]\n",
            " [ 7 -2  5 -4 -1 -8  9 -3 -6]\n",
            " [-9 -6  4 -2  3 -7 -8 -1  5]\n",
            " [ 3 -5 -2  7 -6 -4 -1 -9  8]\n",
            " [-4 -1 -7 -9  8 -2 -6 -5 -3]\n",
            " [ 6 -9 -8 -3 -5  1 -7 -4  2]\n",
            " [ 2 -7 -9 -8  4 -3  5 -6 -1]\n",
            " [-5 -3  6 -1 -7 -9  2 -8  4]\n",
            " [-8  4  1  6 -2  5 -3  7 -9]]\n"
          ],
          "name": "stdout"
        }
      ]
    }
  ]
}