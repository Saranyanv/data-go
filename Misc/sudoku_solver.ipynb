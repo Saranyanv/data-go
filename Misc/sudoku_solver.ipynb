{
  "nbformat": 4,
  "nbformat_minor": 0,
  "metadata": {
    "colab": {
      "name": "sudoku solver.ipynb",
      "provenance": [],
      "authorship_tag": "ABX9TyPDhv/0Xc4epQOYXNeAyZrv",
      "include_colab_link": true
    },
    "kernelspec": {
      "name": "python3",
      "display_name": "Python 3"
    }
  },
  "cells": [
    {
      "cell_type": "markdown",
      "metadata": {
        "id": "view-in-github",
        "colab_type": "text"
      },
      "source": [
        "<a href=\"https://colab.research.google.com/github/Saranyanv/data-go/blob/master/Misc/sudoku_solver.ipynb\" target=\"_parent\"><img src=\"https://colab.research.google.com/assets/colab-badge.svg\" alt=\"Open In Colab\"/></a>"
      ]
    },
    {
      "cell_type": "code",
      "metadata": {
        "id": "MdiDkGDjzCPo",
        "colab_type": "code",
        "colab": {}
      },
      "source": [
        "import numpy as np\n",
        "import pandas as pd\n",
        "import random\n",
        "\n",
        "def difference(list1):\n",
        "   list_dif = [i for i in list1 + [1,2,3,4,5,6,7,8,9] if (i not in list1 or i not in [1,2,3,4,5,6,7,8,9]) and i!=0]\n",
        "   return list_dif\n",
        "\n",
        "def uniq_append(element, list1):\n",
        "  if element not in list1:\n",
        "    list1.append(element)"
      ],
      "execution_count": 0,
      "outputs": []
    },
    {
      "cell_type": "code",
      "metadata": {
        "id": "BiPFR0XdzEKV",
        "colab_type": "code",
        "colab": {}
      },
      "source": [
        "rows, cols = (9, 9) \n",
        "#arr = [[random.randint(0,9) for i in range(rows)] for i in range(cols)]\n",
        "\n",
        "#Difficulty=Easy\n",
        "arr=[[5,2,4,6,0,0,0,0,1],[0,1,0,8,4,3,0,6,5],[3,0,0,0,1,0,0,0,0],[7,5,2,0,0,0,1,0,0],[0,0,0,1,0,7,0,0,0],[0,0,6,0,0,0,7,5,8],[0,0,0,0,9,0,0,0,2],[4,7,0,2,8,6,0,1,0],[2,0,0,0,0,5,6,7,9]]\n",
        "\n",
        "#Difficulty=Medium\n",
        "#arr=[[0,0,9,0,8,2,0,0,5],[0,0,0,9,0,0,1,0,0],[0,5,3,1,0,0,9,8,7],[3,0,7,0,9,1,0,0,0],[0,0,0,0,0,0,0,0,0],[0,0,0,6,2,0,3,0,9],[6,9,5,0,0,8,4,3,0],[0,0,4,0,0,9,0,0,0],[1,0,0,4,3,0,5,0,0]]"
      ],
      "execution_count": 0,
      "outputs": []
    },
    {
      "cell_type": "code",
      "metadata": {
        "id": "PrHt6Vi-0Ite",
        "colab_type": "code",
        "colab": {
          "base_uri": "https://localhost:8080/",
          "height": 173
        },
        "outputId": "c56c55f8-c757-4f52-ae15-6f8f5b47a46e"
      },
      "source": [
        "#old\n",
        "arr"
      ],
      "execution_count": 53,
      "outputs": [
        {
          "output_type": "execute_result",
          "data": {
            "text/plain": [
              "[[5, 2, 4, 6, 0, 0, 0, 0, 1],\n",
              " [0, 1, 0, 8, 4, 3, 0, 6, 5],\n",
              " [3, 0, 0, 0, 1, 0, 0, 0, 0],\n",
              " [7, 5, 2, 0, 0, 0, 1, 0, 0],\n",
              " [0, 0, 0, 1, 0, 7, 0, 0, 0],\n",
              " [0, 0, 6, 0, 0, 0, 7, 5, 8],\n",
              " [0, 0, 0, 0, 9, 0, 0, 0, 2],\n",
              " [4, 7, 0, 2, 8, 6, 0, 1, 0],\n",
              " [2, 0, 0, 0, 0, 5, 6, 7, 9]]"
            ]
          },
          "metadata": {
            "tags": []
          },
          "execution_count": 53
        }
      ]
    },
    {
      "cell_type": "code",
      "metadata": {
        "id": "BerRzyV_zEr4",
        "colab_type": "code",
        "colab": {}
      },
      "source": [
        "def sudoku(arg_list):\n",
        "  cntr=0\n",
        "  while True:\n",
        "    print (\"Pass Nbr #\",cntr)\n",
        "    for i in range(rows):\n",
        "      for j in range(cols):\n",
        "        if arg_list[i][j]==0:\n",
        "          #get numbers in that row\n",
        "          tmp=[i for i in arg_list[i]]\n",
        "          #get numbers in that column\n",
        "          for n in range(rows):\n",
        "            uniq_append(arg_list[n][j],tmp)\n",
        "          #get numbers in that square\n",
        "          for i1 in range(i-np.mod(i,3), i+np.mod(8-i,3)+1):\n",
        "            for j1 in range(j-np.mod(j,3), j+np.mod(8-j,3)+1):\n",
        "              uniq_append(arg_list[i1][j1],tmp)\n",
        "          if len(difference(tmp))==1:\n",
        "            arg_list[i][j]=sum(int(x) for x in difference(tmp))\n",
        "    not_filled=len([i for i in arg_list if 0 in i])\n",
        "    if not_filled>0:\n",
        "      print (\"  Number of unfilled positions is \",not_filled)\n",
        "    else:\n",
        "      print (\"Sudoku Challenge complete in\",cntr,\"passes!\")\n",
        "      print (\" \")\n",
        "      print(np.matrix(arg_list))\n",
        "      return False\n",
        "    cntr+=1"
      ],
      "execution_count": 0,
      "outputs": []
    },
    {
      "cell_type": "code",
      "metadata": {
        "id": "Mt1TTiKPzJKw",
        "colab_type": "code",
        "colab": {
          "base_uri": "https://localhost:8080/",
          "height": 416
        },
        "outputId": "f05f06d1-a7ec-4236-e2e4-dd6b0309e1ae"
      },
      "source": [
        "sudoku(arr)"
      ],
      "execution_count": 55,
      "outputs": [
        {
          "output_type": "stream",
          "text": [
            "Pass Nbr # 0\n",
            "  Number of unfilled positions is  8\n",
            "Pass Nbr # 1\n",
            "  Number of unfilled positions is  7\n",
            "Pass Nbr # 2\n",
            "  Number of unfilled positions is  6\n",
            "Pass Nbr # 3\n",
            "  Number of unfilled positions is  5\n",
            "Pass Nbr # 4\n",
            "  Number of unfilled positions is  1\n",
            "Pass Nbr # 5\n",
            "Sudoku Challenge complete in 5 passes!\n",
            " \n",
            "[[5 2 4 6 7 9 3 8 1]\n",
            " [9 1 7 8 4 3 2 6 5]\n",
            " [3 6 8 5 1 2 4 9 7]\n",
            " [7 5 2 9 6 8 1 3 4]\n",
            " [8 4 3 1 5 7 9 2 6]\n",
            " [1 9 6 3 2 4 7 5 8]\n",
            " [6 3 5 7 9 1 8 4 2]\n",
            " [4 7 9 2 8 6 5 1 3]\n",
            " [2 8 1 4 3 5 6 7 9]]\n"
          ],
          "name": "stdout"
        },
        {
          "output_type": "execute_result",
          "data": {
            "text/plain": [
              "False"
            ]
          },
          "metadata": {
            "tags": []
          },
          "execution_count": 55
        }
      ]
    },
    {
      "cell_type": "code",
      "metadata": {
        "id": "iLPTxtPfzNLv",
        "colab_type": "code",
        "colab": {
          "base_uri": "https://localhost:8080/",
          "height": 173
        },
        "outputId": "e318ac07-0ae7-4b7d-bb66-def72b35dc81"
      },
      "source": [
        "#new\n",
        "arr"
      ],
      "execution_count": 56,
      "outputs": [
        {
          "output_type": "execute_result",
          "data": {
            "text/plain": [
              "[[5, 2, 4, 6, 7, 9, 3, 8, 1],\n",
              " [9, 1, 7, 8, 4, 3, 2, 6, 5],\n",
              " [3, 6, 8, 5, 1, 2, 4, 9, 7],\n",
              " [7, 5, 2, 9, 6, 8, 1, 3, 4],\n",
              " [8, 4, 3, 1, 5, 7, 9, 2, 6],\n",
              " [1, 9, 6, 3, 2, 4, 7, 5, 8],\n",
              " [6, 3, 5, 7, 9, 1, 8, 4, 2],\n",
              " [4, 7, 9, 2, 8, 6, 5, 1, 3],\n",
              " [2, 8, 1, 4, 3, 5, 6, 7, 9]]"
            ]
          },
          "metadata": {
            "tags": []
          },
          "execution_count": 56
        }
      ]
    }
  ]
}