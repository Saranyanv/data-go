{
  "nbformat": 4,
  "nbformat_minor": 0,
  "metadata": {
    "kernelspec": {
      "display_name": "Python 3",
      "language": "python",
      "name": "python3"
    },
    "language_info": {
      "codemirror_mode": {
        "name": "ipython",
        "version": 3
      },
      "file_extension": ".py",
      "mimetype": "text/x-python",
      "name": "python",
      "nbconvert_exporter": "python",
      "pygments_lexer": "ipython3",
      "version": "3.7.3"
    },
    "colab": {
      "name": "Copy of Copy of Copy of sudoku_solver (3).ipynb",
      "provenance": [],
      "collapsed_sections": [],
      "include_colab_link": true
    }
  },
  "cells": [
    {
      "cell_type": "markdown",
      "metadata": {
        "id": "view-in-github",
        "colab_type": "text"
      },
      "source": [
        "<a href=\"https://colab.research.google.com/github/Saranyanv/data-go/blob/master/Misc/sudoku_solver.ipynb\" target=\"_parent\"><img src=\"https://colab.research.google.com/assets/colab-badge.svg\" alt=\"Open In Colab\"/></a>"
      ]
    },
    {
      "cell_type": "code",
      "metadata": {
        "id": "3fPHLJufZFWQ",
        "colab_type": "code",
        "colab": {}
      },
      "source": [
        "import numpy as np\n",
        "import pandas as pd\n",
        "import random\n",
        "import copy\n",
        "import pprint\n",
        "\n",
        "pp = pprint.PrettyPrinter(indent=6)\n",
        "\n",
        "def difference(list1):\n",
        "   list_dif = [i for i in list1 + [1,2,3,4,5,6,7,8,9] if (i not in list1 or i not in [1,2,3,4,5,6,7,8,9]) and i!=0]\n",
        "   return list_dif\n",
        "\n",
        "def uniq_append(element, list1):\n",
        "  if element not in list1 and element!=0:\n",
        "    list1.append(element)\n",
        "\n",
        "def dupcheck(row_num, col_num, arg_list):\n",
        "  tmp_dict={}\n",
        "  tmp=[]\n",
        "  for i in [i for i in arg_list[row_num] if i!=0 and type(i)==type(1)]:\n",
        "    if i not in tmp_dict.keys():\n",
        "      tmp_dict[i]=0\n",
        "      uniq_append(i,tmp)\n",
        "    #else:\n",
        "      #return 'Dups'\n",
        "  \n",
        "  tmp_dict={}\n",
        "  for n in range(9):\n",
        "    if arg_list[n][col_num]==0:\n",
        "      pass\n",
        "    elif type(arg_list[n][col_num])==type(1) and arg_list[n][col_num] not in tmp_dict.keys():\n",
        "      tmp_dict[arg_list[n][col_num]]=0\n",
        "      uniq_append(arg_list[n][col_num],tmp)\n",
        "    #else:\n",
        "      #return 'Dups'\n",
        "    \n",
        "  tmp_dict={}\n",
        "  for i1 in range(row_num-np.mod(row_num,3), row_num+np.mod(8-row_num,3)+1):\n",
        "    for j1 in range(col_num-np.mod(col_num,3), col_num+np.mod(8-col_num,3)+1):\n",
        "      if arg_list[i1][j1]==0:\n",
        "        pass\n",
        "      elif type(arg_list[i1][j1])==type(1) and arg_list[i1][j1] not in tmp_dict.keys():\n",
        "        tmp_dict[arg_list[i1][j1]]=0\n",
        "        uniq_append(arg_list[i1][j1],tmp)\n",
        "      #else:\n",
        "        #return 'Dups'\n",
        "\n",
        "  return sorted(difference(tmp))\n",
        "  #if difference(tmp)==[]:\n",
        "    #return 'Dups'\n",
        "  #else:\n",
        "    #return sorted(difference(tmp))"
      ],
      "execution_count": 0,
      "outputs": []
    },
    {
      "cell_type": "code",
      "metadata": {
        "id": "0wJUHAAdZFWd",
        "colab_type": "code",
        "colab": {}
      },
      "source": [
        "rows, cols = (9, 9) "
      ],
      "execution_count": 0,
      "outputs": []
    },
    {
      "cell_type": "code",
      "metadata": {
        "id": "6B4OTFvDpjcH",
        "colab_type": "code",
        "colab": {}
      },
      "source": [
        "def print_matrix(arg_list):\n",
        "  offset=(max([len(i) for j in restart_list for i in j if type(i)==type([])])*3)+1\n",
        "  for i in range(rows):\n",
        "    tmp=''\n",
        "    for j in range(cols):\n",
        "      if type(j)==type([]):\n",
        "        str_len=offset-len(j)\n",
        "      else:\n",
        "        str_len=offset-1\n",
        "      tmp+=\" \"+str(arg_list[i][j]).ljust(str_len)+\"|\"\n",
        "    print (tmp)"
      ],
      "execution_count": 0,
      "outputs": []
    },
    {
      "cell_type": "code",
      "metadata": {
        "id": "OQA9Lrisa8Bi",
        "colab_type": "code",
        "colab": {}
      },
      "source": [
        "def dedupe_rows(row_num,arg_list):\n",
        "  # Idenfity Naked Doubles and dedupe the corresponding row\n",
        "  for r in range(row_num):\n",
        "      dup={}\n",
        "      for j in arg_list[r]:\n",
        "        if type(j)==type([]):\n",
        "          if tuple(j) not in dup.keys():\n",
        "            dup[tuple(j)]=1\n",
        "          else:\n",
        "            dup[tuple(j)]=dup[tuple(j)]+1\n",
        "        else:\n",
        "          if j not in dup.keys():\n",
        "            dup[j]=1\n",
        "          else:\n",
        "            dup[j]=dup[j]+1\n",
        "      for (k,v) in dup.items():\n",
        "        if type(k)==type(tuple()) and len(k)==v:\n",
        "          for j in k:\n",
        "            for i in range(9):\n",
        "              if type(arg_list[r][i])==type([]) and arg_list[r][i]!=list(k) and j in arg_list[r][i]:\n",
        "                arg_list[r][i].remove(j)\n",
        "\n",
        "      # Idenfity Isolated Singles and dedupe the corresponding row\n",
        "      dup={}\n",
        "      for element in arg_list[r]:\n",
        "        if type(element)==type([]) and len(element)>1:\n",
        "          for idx,val in enumerate(element):\n",
        "            if val not in dup.keys():\n",
        "              dup[val]=1\n",
        "            else:\n",
        "              dup[val]=dup[val]+1\n",
        "      for j in [k for (k,v) in dup.items() if v==1]:\n",
        "        for i in range(9):\n",
        "          if type(arg_list[r][i])==type([]) and j in arg_list[r][i]:\n",
        "            arg_list[r][i]=j\n",
        "\n",
        "  return len([i for j in arg_list for i in j if type(i)==type([]) and len(i)>1])"
      ],
      "execution_count": 0,
      "outputs": []
    },
    {
      "cell_type": "code",
      "metadata": {
        "id": "k3yPeX4MVL9M",
        "colab_type": "code",
        "colab": {}
      },
      "source": [
        "def dedupe_cols(col_num,arg_list):\n",
        "    for i in range(col_num):\n",
        "        dup={}\n",
        "        for j in range(cols):\n",
        "            if type(arg_list[j][i])==type([]):\n",
        "                if tuple(arg_list[j][i]) not in dup.keys():\n",
        "                    dup[tuple(arg_list[j][i])]=1\n",
        "                else:\n",
        "                    dup[tuple(arg_list[j][i])]=dup[tuple(arg_list[j][i])]+1\n",
        "            else:\n",
        "                if arg_list[j][i] not in dup.keys():\n",
        "                    dup[arg_list[j][i]]=1\n",
        "                else:\n",
        "                    dup[arg_list[j][i]]=dup[arg_list[j][i]]+1\n",
        "        for (k,v) in dup.items():\n",
        "            if type(k)==type(tuple()) and len(k)==v:\n",
        "                for j in k:\n",
        "                    for r in range(9):\n",
        "                        if type(arg_list[r][i])==type([]) and arg_list[r][i]!=list(k) and j in arg_list[r][i]:\n",
        "                            arg_list[r][i].remove(j)\n",
        "\n",
        "        for i in range(cols):\n",
        "          dup={}\n",
        "          for j in range(rows):\n",
        "            if type(arg_list[j][i])==type([]): #and len(arg_list[j][i])>1:\n",
        "              for idx,val in enumerate(arg_list[j][i]):\n",
        "                if val not in dup.keys():\n",
        "                  dup[val]=1\n",
        "                else:\n",
        "                  dup[val]=dup[val]+1\n",
        "            else:\n",
        "                if arg_list[j][i] not in dup.keys():\n",
        "                  dup[arg_list[j][i]]=1\n",
        "                else:\n",
        "                  dup[arg_list[j][i]]=dup[arg_list[j][i]]+1              \n",
        "          for j1 in [k for (k,v) in dup.items() if v==1]:\n",
        "            for n in range(9):\n",
        "              if type(arg_list[n][i])==type([]) and j1 in arg_list[n][i] and len(arg_list[n][i])>1:\n",
        "                arg_list[n][i]=j1\n",
        "    return len([i for j in arg_list for i in j if type(i)==type([]) and len(i)>1])"
      ],
      "execution_count": 0,
      "outputs": []
    },
    {
      "cell_type": "code",
      "metadata": {
        "id": "CHHF4Sk2ZFW0",
        "colab_type": "code",
        "colab": {}
      },
      "source": [
        "def prepare_output(arg_list):\n",
        "    solved_sudoku=[]\n",
        "    for row in arg_list:\n",
        "        solved_sudoku_tmp=[]\n",
        "        for element in row:\n",
        "            if type(element)==type([]):\n",
        "                solved_sudoku_tmp.append(int(element[0]))\n",
        "            else:\n",
        "                solved_sudoku_tmp.append(element)\n",
        "        solved_sudoku.append(solved_sudoku_tmp)\n",
        "    return solved_sudoku"
      ],
      "execution_count": 0,
      "outputs": []
    },
    {
      "cell_type": "code",
      "metadata": {
        "id": "tlT0BvJNZFW5",
        "colab_type": "code",
        "outputId": "f28d92de-c3fd-4e98-80d2-e175e32ec789",
        "colab": {
          "base_uri": "https://localhost:8080/",
          "height": 374
        }
      },
      "source": [
        "### Complexity=Medium\n",
        "arr_sudoku=[[0,0,3,1,0,0,0,0,0],[0,5,6,9,0,0,0,0,1],[0,0,0,0,7,0,8,0,2],[0,0,0,0,0,0,0,4,3],[0,8,9,0,3,0,7,2,0],[3,6,0,0,0,0,0,0,0],[9,0,1,0,5,0,0,0,0],[5,0,0,0,0,7,4,3,0],[0,0,0,0,0,9,1,0,0]]\n",
        "\n",
        "### Complexity=Hard\n",
        "'''arr_sudoku=[[5,0,0,0,0,0,1,6,2],\n",
        "     [0,3,0,2,0,0,0,0,0],\n",
        "     [0,0,6,1,0,0,8,0,0],\n",
        "     [0,0,5,9,0,0,0,2,0],\n",
        "     [0,0,0,4,5,2,0,0,0],\n",
        "     [0,6,0,0,0,3,4,0,0],\n",
        "     [0,0,2,0,0,1,7,0,0],\n",
        "     [0,0,0,0,0,8,0,3,0],\n",
        "     [9,1,7,0,0,0,0,0,5]]'''\n",
        "\n",
        "\n",
        "\n",
        "restart_list=[[0,0,0,0,0,0,0,0,0],\n",
        "     [0,0,0,0,0,0,0,0,0],\n",
        "     [0,0,0,0,0,0,0,0,0],\n",
        "     [0,0,0,0,0,0,0,0,0],\n",
        "     [0,0,0,0,0,0,0,0,0],\n",
        "     [0,0,0,0,0,0,0,0,0],\n",
        "     [0,0,0,0,0,0,0,0,0],\n",
        "     [0,0,0,0,0,0,0,0,0],\n",
        "     [0,0,0,0,0,0,0,0,0]]\n",
        "     \n",
        "not_filled=len([i for j in arr_sudoku for i in j if i==0])\n",
        "prev_not_filled=0;\n",
        "STUS='IPRO'\n",
        "\n",
        "print (\"Sudoku..\")\n",
        "print(np.matrix(arr_sudoku))\n",
        "# Solve for Naked singles\n",
        "while STUS!='COMP':\n",
        "    for i in range(rows):\n",
        "        for j in range(cols):\n",
        "            if arr_sudoku[i][j]<=0:\n",
        "                dup_chk=dupcheck(i,j,arr_sudoku)\n",
        "                if len(dup_chk)==1:\n",
        "                    arr_sudoku[i][j]=sum(int(x) for x in dup_chk)\n",
        "                    restart_list[i][j]=arr_sudoku[i][j]\n",
        "                else:\n",
        "                    restart_list[i][j]=dup_chk\n",
        "            else:\n",
        "                restart_list[i][j]=arr_sudoku[i][j]\n",
        "    prev_not_filled=not_filled\n",
        "    not_filled=len([i for j in arr_sudoku for i in j if i==0])\n",
        "    if not_filled==0:\n",
        "      STUS='COMP'\n",
        "    elif prev_not_filled==not_filled:\n",
        "      #print_matrix(restart_list)\n",
        "      # Solve for Hidden singles, doubles, triples\n",
        "      while STUS=='IPRO':\n",
        "        unfilled_row_count=dedupe_rows(rows,restart_list)\n",
        "        #print_matrix(restart_list)\n",
        "        unfilled_col_count=dedupe_cols(cols,restart_list)\n",
        "        #print_matrix(restart_list)\n",
        "        for i in range(rows):\n",
        "          for j in range(cols):\n",
        "            if type(restart_list[i][j])==type([]) and len(restart_list[i][j]) > 1:\n",
        "              dup_chk=dupcheck(i,j,restart_list)\n",
        "              if len(dup_chk)==1:\n",
        "                restart_list[i][j]=sum(int(x) for x in dup_chk)\n",
        "              else:\n",
        "                restart_list[i][j]=dup_chk\n",
        "        #print_matrix(restart_list)\n",
        "        total_unfilled=len([i for j in restart_list for i in j if type(i)==type([]) and len(i)>1])\n",
        "        if total_unfilled==0:\n",
        "        #if unfilled_row_count==0 and unfilled_col_count==0:\n",
        "          output=prepare_output(restart_list)\n",
        "          STUS='COMP'\n",
        "          print(\" \")\n",
        "          print(\"Solved Sudoku..\")\n",
        "          print(np.matrix(output))\n",
        "          break"
      ],
      "execution_count": 14,
      "outputs": [
        {
          "output_type": "stream",
          "text": [
            "Sudoku..\n",
            "[[0 0 3 1 0 0 0 0 0]\n",
            " [0 5 6 9 0 0 0 0 1]\n",
            " [0 0 0 0 7 0 8 0 2]\n",
            " [0 0 0 0 0 0 0 4 3]\n",
            " [0 8 9 0 3 0 7 2 0]\n",
            " [3 6 0 0 0 0 0 0 0]\n",
            " [9 0 1 0 5 0 0 0 0]\n",
            " [5 0 0 0 0 7 4 3 0]\n",
            " [0 0 0 0 0 9 1 0 0]]\n",
            " \n",
            "Solved Sudoku..\n",
            "[[2 7 3 1 8 5 6 9 4]\n",
            " [8 5 6 9 4 2 3 7 1]\n",
            " [1 9 4 3 7 5 8 5 2]\n",
            " [7 1 5 2 6 6 9 4 3]\n",
            " [4 8 9 5 3 1 7 2 6]\n",
            " [3 6 2 7 9 4 5 1 8]\n",
            " [9 4 1 8 5 3 2 6 7]\n",
            " [5 2 8 6 1 7 4 3 9]\n",
            " [6 3 7 4 2 9 1 8 5]]\n"
          ],
          "name": "stdout"
        }
      ]
    },
    {
      "cell_type": "code",
      "metadata": {
        "id": "TCp7F31dP_Y-",
        "colab_type": "code",
        "outputId": "94c7ce3f-bf8e-44cf-afb0-6991207ff837",
        "colab": {
          "base_uri": "https://localhost:8080/",
          "height": 170
        }
      },
      "source": [
        "print_matrix(output)"
      ],
      "execution_count": 15,
      "outputs": [
        {
          "output_type": "stream",
          "text": [
            " 2  | 7  | 3  | 1  | 8  | 5  | 6  | 9  | 4  |\n",
            " 8  | 5  | 6  | 9  | 4  | 2  | 3  | 7  | 1  |\n",
            " 1  | 9  | 4  | 3  | 7  | 5  | 8  | 5  | 2  |\n",
            " 7  | 1  | 5  | 2  | 6  | 6  | 9  | 4  | 3  |\n",
            " 4  | 8  | 9  | 5  | 3  | 1  | 7  | 2  | 6  |\n",
            " 3  | 6  | 2  | 7  | 9  | 4  | 5  | 1  | 8  |\n",
            " 9  | 4  | 1  | 8  | 5  | 3  | 2  | 6  | 7  |\n",
            " 5  | 2  | 8  | 6  | 1  | 7  | 4  | 3  | 9  |\n",
            " 6  | 3  | 7  | 4  | 2  | 9  | 1  | 8  | 5  |\n"
          ],
          "name": "stdout"
        }
      ]
    }
  ]
}